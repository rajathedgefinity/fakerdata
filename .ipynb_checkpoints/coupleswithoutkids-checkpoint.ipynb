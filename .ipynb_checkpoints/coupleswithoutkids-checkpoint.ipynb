{
 "cells": [
  {
   "cell_type": "code",
   "execution_count": 47,
   "metadata": {},
   "outputs": [],
   "source": [
    "from ipyleaflet import *\n",
    "from faker import Faker\n",
    "from random import randint\n",
    "from datetime import date\n",
    "from datetime import datetime\n",
    "from datetime import timedelta\n",
    "from IPython.display import HTML, display\n",
    "import tabulate"
   ]
  },
  {
   "cell_type": "code",
   "execution_count": 48,
   "metadata": {},
   "outputs": [],
   "source": [
    "fake = Faker()"
   ]
  },
  {
   "cell_type": "code",
   "execution_count": 49,
   "metadata": {},
   "outputs": [],
   "source": [
    "def fake_hub_data():\n",
    "    hub_id = randint(1,1)\n",
    "    latitude = fake.latitude()\n",
    "    longitude = fake.longitude()\n",
    "    table = [[\"Hub_id\",hub_id],\n",
    "             [\"latitude\", latitude],\n",
    "             [\"longitude\", longitude]]\n",
    "    display(HTML(tabulate.tabulate(table, tablefmt='html')))\n",
    "    \n",
    "    return hub_id, latitude, longitude"
   ]
  },
  {
   "cell_type": "code",
   "execution_count": 50,
   "metadata": {},
   "outputs": [
    {
     "data": {
      "text/html": [
       "<table>\n",
       "<tbody>\n",
       "<tr><td>Hub_id   </td><td style=\"text-align: right;\">  1     </td></tr>\n",
       "<tr><td>latitude </td><td style=\"text-align: right;\">-44.8941</td></tr>\n",
       "<tr><td>longitude</td><td style=\"text-align: right;\"> 35.8006</td></tr>\n",
       "</tbody>\n",
       "</table>"
      ],
      "text/plain": [
       "<IPython.core.display.HTML object>"
      ]
     },
     "metadata": {},
     "output_type": "display_data"
    }
   ],
   "source": [
    "hub_data = fake_hub_data()"
   ]
  },
  {
   "cell_type": "code",
   "execution_count": 51,
   "metadata": {},
   "outputs": [],
   "source": [
    "from ipyleaflet import Map, Marker\n",
    "\n",
    "center = (13.03758,77.53595)\n",
    "center1 = (13.0375,77.5359)\n",
    "\n",
    "m = Map(center=center, zoom=30)\n",
    "\n",
    "marker = Marker(location=center, draggable=False)\n",
    "marker1 = Marker(location=center1, draggable=False)\n",
    "# marker1.icon('geoicons.png')\n",
    "m.add_layer(marker);\n",
    "m.add_layer(marker1);"
   ]
  },
  {
   "cell_type": "code",
   "execution_count": 52,
   "metadata": {},
   "outputs": [
    {
     "data": {
      "application/vnd.jupyter.widget-view+json": {
       "model_id": "48d972fa69d14e8e85525f3257a80342",
       "version_major": 2,
       "version_minor": 0
      },
      "text/plain": [
       "Map(center=[13.03758, 77.53595], controls=(ZoomControl(options=['position', 'zoom_in_text', 'zoom_in_title', '…"
      ]
     },
     "metadata": {},
     "output_type": "display_data"
    }
   ],
   "source": [
    "m"
   ]
  },
  {
   "cell_type": "code",
   "execution_count": 53,
   "metadata": {},
   "outputs": [],
   "source": [
    "def calculateAge(birthdate):\n",
    "    today = date.today()\n",
    "    age = today.year - birthdate.year - ((today.month, today.day) < (birthdate.month, birthdate.day))\n",
    "    return age"
   ]
  },
  {
   "cell_type": "code",
   "execution_count": 15,
   "metadata": {},
   "outputs": [],
   "source": [
    "def fake_user_info():\n",
    "    users = [fake.first_name_male,fake.last_name_male, fake.first_name_female, fake.last_name_female]\n",
    "    anniversary_date = fake.date_of_birth(tzinfo=None, minimum_age=3, maximum_age=6)\n",
    "    collected_users = []\n",
    "    for i in range(2):\n",
    "        hub_id = hub_data[0]\n",
    "        user_id = i+1\n",
    "        if i == 0:\n",
    "            first_name = users[0]()\n",
    "            last_name = users[1]()\n",
    "            user_name = first_name\n",
    "        if i == 1:\n",
    "            first_name = users[2]()\n",
    "            last_name = users[3]()\n",
    "            user_name = first_name\n",
    "        date_of_birth = fake.date_of_birth(tzinfo=None, minimum_age=25, maximum_age=32)\n",
    "        age_in_years = calculateAge(date(date_of_birth.year, date_of_birth.month, date_of_birth.day))\n",
    "        married_age = calculateAge(date(anniversary_date.year, anniversary_date.month, anniversary_date.day))\n",
    "        print(hub_id, user_id, first_name, last_name, user_name, date_of_birth, anniversary_date, age_in_years, married_age)\n",
    "        collected_users.append(user_name)\n",
    "    return collected_users"
   ]
  },
  {
   "cell_type": "code",
   "execution_count": 16,
   "metadata": {},
   "outputs": [
    {
     "name": "stdout",
     "output_type": "stream",
     "text": [
      "1 1 Jonathan Obrien Jonathan 1994-01-31 2014-04-22 26 5\n",
      "1 2 Elizabeth White Elizabeth 1990-02-28 2014-04-22 30 5\n"
     ]
    }
   ],
   "source": [
    " users = fake_user_info()"
   ]
  },
  {
   "cell_type": "code",
   "execution_count": 23,
   "metadata": {},
   "outputs": [
    {
     "data": {
      "text/plain": [
       "['Jonathan', 'Elizabeth']"
      ]
     },
     "execution_count": 23,
     "metadata": {},
     "output_type": "execute_result"
    }
   ],
   "source": [
    "users"
   ]
  },
  {
   "cell_type": "code",
   "execution_count": 72,
   "metadata": {},
   "outputs": [],
   "source": [
    "import random\n",
    "import time\n",
    "\n",
    "def str_time_prop(start, end, format, prop):\n",
    "    \"\"\"Get a time at a proportion of a range of two formatted times.\n",
    "\n",
    "    start and end should be strings specifying times formated in the\n",
    "    given format (strftime-style), giving an interval [start, end].\n",
    "    prop specifies how a proportion of the interval to be taken after\n",
    "    start.  The returned time will be in the specified format.\n",
    "    \"\"\"\n",
    "\n",
    "    stime = time.mktime(time.strptime(start, format))\n",
    "    etime = time.mktime(time.strptime(end, format))\n",
    "\n",
    "    ptime = stime + prop * (etime - stime)\n",
    "\n",
    "    return time.strftime(format, time.localtime(ptime))\n",
    "\n",
    "\n",
    "def random_date(start, end, prop):\n",
    "    return str_time_prop(start, end, '%m/%d/%Y %I:%M %p', prop)\n",
    "\n",
    "# print(random_date(\"1/1/2008 1:30 PM\", \"1/1/2009 4:50 AM\", random.random()))"
   ]
  },
  {
   "cell_type": "code",
   "execution_count": 83,
   "metadata": {},
   "outputs": [],
   "source": [
    "import random\n",
    "from datetime import datetime\n",
    "Triggers = ['Turned On', 'Turned Off']\n",
    "def create_trigger_for_morning(usrs):\n",
    "    usrs = usrs\n",
    "    hub_id = hub_data[0]\n",
    "    switch_names = ['63_fueb_switch_L1','63_fueb_switch_L2','63_fueb_switch_L3','63_fueb_switch_L4','63_fueb_switch_L5','dimmer','dimmer2']\n",
    "    for i in switch_names:\n",
    "        timestampStr = random_date(\"12/3/2020 06:00 AM\", \"12/3/2020 10:00 AM\", random.random())\n",
    "        print(i,random.choice(usrs),random.choice(Triggers), timestampStr)"
   ]
  },
  {
   "cell_type": "code",
   "execution_count": 84,
   "metadata": {},
   "outputs": [
    {
     "name": "stdout",
     "output_type": "stream",
     "text": [
      "63_fueb_switch_L1 Elizabeth Turned On 12/03/2020 08:42 AM\n",
      "63_fueb_switch_L2 Elizabeth Turned Off 12/03/2020 07:48 AM\n",
      "63_fueb_switch_L3 Elizabeth Turned Off 12/03/2020 08:55 AM\n",
      "63_fueb_switch_L4 Jonathan Turned On 12/03/2020 06:15 AM\n",
      "63_fueb_switch_L5 Elizabeth Turned On 12/03/2020 08:53 AM\n",
      "dimmer Jonathan Turned Off 12/03/2020 06:41 AM\n",
      "dimmer2 Elizabeth Turned On 12/03/2020 06:57 AM\n"
     ]
    }
   ],
   "source": [
    "create_trigger_for_morning(users)"
   ]
  },
  {
   "cell_type": "code",
   "execution_count": 85,
   "metadata": {},
   "outputs": [],
   "source": [
    "import random\n",
    "from datetime import datetime\n",
    "Triggers = ['Turned On', 'Turned Off']\n",
    "def create_trigger_for_evening(usrs):\n",
    "    usrs = usrs\n",
    "    hub_id = hub_data[0]\n",
    "    switch_names = ['63_fueb_switch_L1','63_fueb_switch_L2','63_fueb_switch_L3','63_fueb_switch_L4','63_fueb_switch_L5','dimmer','dimmer2']\n",
    "    for i in switch_names:\n",
    "        timestampStr = random_date(\"12/3/2020 06:00 PM\", \"12/3/2020 11:00 PM\", random.random())\n",
    "        print(i,random.choice(usrs),random.choice(Triggers), timestampStr)"
   ]
  },
  {
   "cell_type": "code",
   "execution_count": 86,
   "metadata": {},
   "outputs": [
    {
     "name": "stdout",
     "output_type": "stream",
     "text": [
      "63_fueb_switch_L1 Jonathan Turned Off 12/03/2020 07:05 PM\n",
      "63_fueb_switch_L2 Jonathan Turned Off 12/03/2020 10:32 PM\n",
      "63_fueb_switch_L3 Jonathan Turned Off 12/03/2020 07:30 PM\n",
      "63_fueb_switch_L4 Elizabeth Turned Off 12/03/2020 06:09 PM\n",
      "63_fueb_switch_L5 Jonathan Turned Off 12/03/2020 09:17 PM\n",
      "dimmer Elizabeth Turned On 12/03/2020 08:04 PM\n",
      "dimmer2 Jonathan Turned On 12/03/2020 09:29 PM\n"
     ]
    }
   ],
   "source": [
    "create_trigger_for_evening(users)"
   ]
  }
 ],
 "metadata": {
  "kernelspec": {
   "display_name": "Python 3",
   "language": "python",
   "name": "python3"
  },
  "language_info": {
   "codemirror_mode": {
    "name": "ipython",
    "version": 3
   },
   "file_extension": ".py",
   "mimetype": "text/x-python",
   "name": "python",
   "nbconvert_exporter": "python",
   "pygments_lexer": "ipython3",
   "version": "3.6.9"
  }
 },
 "nbformat": 4,
 "nbformat_minor": 4
}
