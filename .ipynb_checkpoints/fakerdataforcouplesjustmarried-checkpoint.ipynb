{
 "cells": [
  {
   "cell_type": "markdown",
   "metadata": {},
   "source": [
    "## Data Generated for Just Married Couples without Kids"
   ]
  },
  {
   "cell_type": "code",
   "execution_count": 2,
   "metadata": {},
   "outputs": [],
   "source": [
    "from faker import Faker\n",
    "from random import randint\n",
    "from datetime import date\n",
    "from datetime import timedelta"
   ]
  },
  {
   "cell_type": "code",
   "execution_count": 3,
   "metadata": {},
   "outputs": [],
   "source": [
    "from IPython.display import HTML, display\n",
    "import tabulate"
   ]
  },
  {
   "cell_type": "code",
   "execution_count": 4,
   "metadata": {},
   "outputs": [],
   "source": [
    "fake = Faker()"
   ]
  },
  {
   "cell_type": "code",
   "execution_count": 5,
   "metadata": {},
   "outputs": [],
   "source": [
    "def fake_hub_data():\n",
    "    hub_id = randint(1,1)\n",
    "    latitude = fake.latitude()\n",
    "    longitude = fake.longitude()\n",
    "    table = [[\"Hub_id\",hub_id],\n",
    "             [\"latitude\", latitude],\n",
    "             [\"longitude\", longitude]]\n",
    "    display(HTML(tabulate.tabulate(table, tablefmt='html')))\n",
    "    \n",
    "    return hub_id, latitude, longitude"
   ]
  },
  {
   "cell_type": "code",
   "execution_count": 6,
   "metadata": {},
   "outputs": [
    {
     "data": {
      "text/html": [
       "<table>\n",
       "<tbody>\n",
       "<tr><td>Hub_id   </td><td style=\"text-align: right;\"> 1     </td></tr>\n",
       "<tr><td>latitude </td><td style=\"text-align: right;\">10.0688</td></tr>\n",
       "<tr><td>longitude</td><td style=\"text-align: right;\">19.2242</td></tr>\n",
       "</tbody>\n",
       "</table>"
      ],
      "text/plain": [
       "<IPython.core.display.HTML object>"
      ]
     },
     "metadata": {},
     "output_type": "display_data"
    }
   ],
   "source": [
    "hub_data = fake_hub_data()"
   ]
  },
  {
   "cell_type": "code",
   "execution_count": 7,
   "metadata": {},
   "outputs": [],
   "source": [
    "def calculateAge(birthdate):\n",
    "    today = date.today()\n",
    "    age = today.year - birthdate.year - ((today.month, today.day) < (birthdate.month, birthdate.day))\n",
    "    return age"
   ]
  },
  {
   "cell_type": "code",
   "execution_count": 8,
   "metadata": {},
   "outputs": [],
   "source": [
    "def fake_user_info():\n",
    "    users = [fake.first_name_male,fake.last_name_male, fake.first_name_female, fake.last_name_female]\n",
    "    anniversary_date = fake.date_of_birth(tzinfo=None, minimum_age=3, maximum_age=6)\n",
    "    for i in range(2):\n",
    "        hub_id = hub_data[0]\n",
    "        user_id = i+1\n",
    "        if i == 0:\n",
    "            first_name = users[0]()\n",
    "            last_name = users[1]()\n",
    "            user_name = first_name\n",
    "        if i == 1:\n",
    "            first_name = users[2]()\n",
    "            last_name = users[3]()\n",
    "            user_name = first_name\n",
    "        date_of_birth = fake.date_of_birth(tzinfo=None, minimum_age=25, maximum_age=32)\n",
    "        age_in_years = calculateAge(date(date_of_birth.year, date_of_birth.month, date_of_birth.day))\n",
    "        married_age = calculateAge(date(anniversary_date.year, anniversary_date.month, anniversary_date.day))\n",
    "        print(hub_id, user_id, first_name, last_name, user_name, date_of_birth, anniversary_date, age_in_years, married_age)"
   ]
  },
  {
   "cell_type": "code",
   "execution_count": 9,
   "metadata": {},
   "outputs": [
    {
     "name": "stdout",
     "output_type": "stream",
     "text": [
      "1 1 Jeffrey Chen Jeffrey 1988-07-04 2014-11-22 31 5\n",
      "1 2 Robin Brooks Robin 1994-05-15 2014-11-22 25 5\n"
     ]
    }
   ],
   "source": [
    "fake_user_info()"
   ]
  },
  {
   "cell_type": "code",
   "execution_count": 16,
   "metadata": {},
   "outputs": [],
   "source": [
    "import random\n",
    "Triggers = ['Turned On', 'Turned Off']\n",
    "def create_trigger_for_morning():\n",
    "    hub_id = hub_data[0]\n",
    "    switch_names = ['63_fueb_switch_L1','63_fueb_switch_L2','63_fueb_switch_L3','63_fueb_switch_L4','63_fueb_switch_L5','dimmer','dimmer2']\n",
    "    for i in switch_names:\n",
    "        print(i,random.choice(Triggers))"
   ]
  },
  {
   "cell_type": "code",
   "execution_count": 17,
   "metadata": {},
   "outputs": [
    {
     "name": "stdout",
     "output_type": "stream",
     "text": [
      "63_fueb_switch_L1 Turned Off\n",
      "63_fueb_switch_L2 Turned On\n",
      "63_fueb_switch_L3 Turned Off\n",
      "63_fueb_switch_L4 Turned On\n",
      "63_fueb_switch_L5 Turned Off\n",
      "dimmer Turned On\n",
      "dimmer2 Turned Off\n"
     ]
    }
   ],
   "source": [
    "create_trigger_for_morning()"
   ]
  },
  {
   "cell_type": "code",
   "execution_count": 20,
   "metadata": {},
   "outputs": [],
   "source": [
    "import matplotlib.pyplot as plt\n",
    "import seaborn as sns\n",
    "import shapefile as shp\n",
    "\n",
    "%matplotlib inline"
   ]
  },
  {
   "cell_type": "code",
   "execution_count": 22,
   "metadata": {},
   "outputs": [],
   "source": [
    "sns.set(style=\"whitegrid\", palette=\"pastel\", color_codes=True)\n",
    "sns.mpl.rc(\"figure\", figsize=(10,6))"
   ]
  },
  {
   "cell_type": "code",
   "execution_count": 24,
   "metadata": {},
   "outputs": [],
   "source": [
    "shp_path = \"./IND_adm/IND_adm3.shp\"\n",
    "sf = shp.Reader(shp_path)"
   ]
  },
  {
   "cell_type": "code",
   "execution_count": 26,
   "metadata": {},
   "outputs": [
    {
     "data": {
      "text/plain": [
       "2299"
      ]
     },
     "execution_count": 26,
     "metadata": {},
     "output_type": "execute_result"
    }
   ],
   "source": [
    "len(sf.shapes())"
   ]
  },
  {
   "cell_type": "code",
   "execution_count": 27,
   "metadata": {},
   "outputs": [],
   "source": [
    "from ipyleaflet import *"
   ]
  },
  {
   "cell_type": "code",
   "execution_count": 29,
   "metadata": {},
   "outputs": [
    {
     "data": {
      "application/vnd.jupyter.widget-view+json": {
       "model_id": "389ec6a697ed4829a148a84bb678c670",
       "version_major": 2,
       "version_minor": 0
      },
      "text/plain": [
       "Map(center=[52, 10], controls=(ZoomControl(options=['position', 'zoom_in_text', 'zoom_in_title', 'zoom_out_tex…"
      ]
     },
     "metadata": {},
     "output_type": "display_data"
    }
   ],
   "source": [
    "m = Map(center=(52,10),zoom=8, basemap=basemaps.Esri.DeLorme)\n",
    "m"
   ]
  },
  {
   "cell_type": "code",
   "execution_count": null,
   "metadata": {},
   "outputs": [],
   "source": []
  }
 ],
 "metadata": {
  "kernelspec": {
   "display_name": "Python 3",
   "language": "python",
   "name": "python3"
  },
  "language_info": {
   "codemirror_mode": {
    "name": "ipython",
    "version": 3
   },
   "file_extension": ".py",
   "mimetype": "text/x-python",
   "name": "python",
   "nbconvert_exporter": "python",
   "pygments_lexer": "ipython3",
   "version": "3.6.9"
  }
 },
 "nbformat": 4,
 "nbformat_minor": 2
}
